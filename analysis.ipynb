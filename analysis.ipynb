{
 "cells": [
  {
   "cell_type": "code",
   "execution_count": 11,
   "id": "395967e3-6cf6-4c6a-a951-e816d519519a",
   "metadata": {},
   "outputs": [],
   "source": [
    "import pandas as pd\n",
    "import matplotlib.pyplot as plt\n",
    "from datetime import datetime\n",
    "import os"
   ]
  },
  {
   "cell_type": "markdown",
   "id": "1332dedc-8c48-4c9a-81a4-e030781db8a5",
   "metadata": {},
   "source": [
    "## Merge .csv files"
   ]
  },
  {
   "cell_type": "code",
   "execution_count": 12,
   "id": "12a312fe-267a-4a41-9e36-21d626e15fe0",
   "metadata": {},
   "outputs": [],
   "source": [
    "all_files = [file for file in os.listdir('./Sales_Data')]\n",
    "\n",
    "dfs = []\n",
    "for file in all_files:\n",
    "    dfs.append(pd.read_csv('./Sales_Data/' + file, index_col=None, header=0))\n",
    "\n",
    "frame = pd.concat(dfs, ignore_index=True)\n",
    "frame.to_csv(\"all_sales_data.csv\", index=False)"
   ]
  },
  {
   "cell_type": "code",
   "execution_count": 13,
   "id": "1d2022b4-ce2a-4e5a-b2d0-eb4973954222",
   "metadata": {},
   "outputs": [
    {
     "data": {
      "text/html": [
       "<div>\n",
       "<style scoped>\n",
       "    .dataframe tbody tr th:only-of-type {\n",
       "        vertical-align: middle;\n",
       "    }\n",
       "\n",
       "    .dataframe tbody tr th {\n",
       "        vertical-align: top;\n",
       "    }\n",
       "\n",
       "    .dataframe thead th {\n",
       "        text-align: right;\n",
       "    }\n",
       "</style>\n",
       "<table border=\"1\" class=\"dataframe\">\n",
       "  <thead>\n",
       "    <tr style=\"text-align: right;\">\n",
       "      <th></th>\n",
       "      <th>Order ID</th>\n",
       "      <th>Product</th>\n",
       "      <th>Quantity Ordered</th>\n",
       "      <th>Price Each</th>\n",
       "      <th>Order Date</th>\n",
       "      <th>Purchase Address</th>\n",
       "    </tr>\n",
       "  </thead>\n",
       "  <tbody>\n",
       "    <tr>\n",
       "      <th>0</th>\n",
       "      <td>295665</td>\n",
       "      <td>Macbook Pro Laptop</td>\n",
       "      <td>1</td>\n",
       "      <td>1700</td>\n",
       "      <td>12/30/19 00:01</td>\n",
       "      <td>136 Church St, New York City, NY 10001</td>\n",
       "    </tr>\n",
       "    <tr>\n",
       "      <th>1</th>\n",
       "      <td>295666</td>\n",
       "      <td>LG Washing Machine</td>\n",
       "      <td>1</td>\n",
       "      <td>600.0</td>\n",
       "      <td>12/29/19 07:03</td>\n",
       "      <td>562 2nd St, New York City, NY 10001</td>\n",
       "    </tr>\n",
       "    <tr>\n",
       "      <th>2</th>\n",
       "      <td>295667</td>\n",
       "      <td>USB-C Charging Cable</td>\n",
       "      <td>1</td>\n",
       "      <td>11.95</td>\n",
       "      <td>12/12/19 18:21</td>\n",
       "      <td>277 Main St, New York City, NY 10001</td>\n",
       "    </tr>\n",
       "    <tr>\n",
       "      <th>3</th>\n",
       "      <td>295668</td>\n",
       "      <td>27in FHD Monitor</td>\n",
       "      <td>1</td>\n",
       "      <td>149.99</td>\n",
       "      <td>12/22/19 15:13</td>\n",
       "      <td>410 6th St, San Francisco, CA 94016</td>\n",
       "    </tr>\n",
       "    <tr>\n",
       "      <th>4</th>\n",
       "      <td>295669</td>\n",
       "      <td>USB-C Charging Cable</td>\n",
       "      <td>1</td>\n",
       "      <td>11.95</td>\n",
       "      <td>12/18/19 12:38</td>\n",
       "      <td>43 Hill St, Atlanta, GA 30301</td>\n",
       "    </tr>\n",
       "  </tbody>\n",
       "</table>\n",
       "</div>"
      ],
      "text/plain": [
       "  Order ID               Product Quantity Ordered Price Each      Order Date  \\\n",
       "0   295665    Macbook Pro Laptop                1       1700  12/30/19 00:01   \n",
       "1   295666    LG Washing Machine                1      600.0  12/29/19 07:03   \n",
       "2   295667  USB-C Charging Cable                1      11.95  12/12/19 18:21   \n",
       "3   295668      27in FHD Monitor                1     149.99  12/22/19 15:13   \n",
       "4   295669  USB-C Charging Cable                1      11.95  12/18/19 12:38   \n",
       "\n",
       "                         Purchase Address  \n",
       "0  136 Church St, New York City, NY 10001  \n",
       "1     562 2nd St, New York City, NY 10001  \n",
       "2    277 Main St, New York City, NY 10001  \n",
       "3     410 6th St, San Francisco, CA 94016  \n",
       "4           43 Hill St, Atlanta, GA 30301  "
      ]
     },
     "execution_count": 13,
     "metadata": {},
     "output_type": "execute_result"
    }
   ],
   "source": [
    "all_data = pd.read_csv(\"all_sales_data.csv\")\n",
    "all_data.head()"
   ]
  },
  {
   "cell_type": "markdown",
   "id": "69d929cb-a7a5-4317-8a2e-aa79935a19ea",
   "metadata": {},
   "source": [
    "## Clean up"
   ]
  },
  {
   "cell_type": "code",
   "execution_count": 14,
   "id": "3550a109-bdf5-405e-8a0a-c61622fa84a0",
   "metadata": {},
   "outputs": [],
   "source": [
    "clean_up = all_data.loc[all_data['Order ID'] == 'Order ID'].index.to_list()\n",
    "\n",
    "all_data.drop(all_data.index[clean_up], inplace=True)\n",
    "\n",
    "all_data.dropna(inplace=True)"
   ]
  },
  {
   "cell_type": "markdown",
   "id": "305e66aa-5ef0-49f9-9188-a30703d34143",
   "metadata": {},
   "source": [
    "#### Convert columns to correct types"
   ]
  },
  {
   "cell_type": "code",
   "execution_count": 15,
   "id": "7fc17b87-baca-403b-9b14-19532b566588",
   "metadata": {},
   "outputs": [],
   "source": [
    "all_data['Quantity Ordered'] = all_data['Quantity Ordered'].astype('int32')\n",
    "all_data['Price Each'] = all_data['Price Each'].astype('float')"
   ]
  },
  {
   "cell_type": "markdown",
   "id": "0246c4f0-b1b4-4f50-945d-60d599067389",
   "metadata": {},
   "source": [
    "## Augment columns"
   ]
  },
  {
   "cell_type": "markdown",
   "id": "8192a570-cdd4-4652-b64d-9e23caec0499",
   "metadata": {},
   "source": [
    "#### Add month column in int"
   ]
  },
  {
   "cell_type": "code",
   "execution_count": 16,
   "id": "5fc1696f-5b37-43ab-abfd-f1082fbd3992",
   "metadata": {},
   "outputs": [],
   "source": [
    "all_data['Month'] = all_data['Order Date'].str.slice(0,2)\n",
    "all_data['Month'] = all_data['Month'].astype('int32')"
   ]
  },
  {
   "cell_type": "markdown",
   "id": "2f0f0acb-906c-4ee5-9c0e-d4cb487b8fb0",
   "metadata": {},
   "source": [
    "#### Add total sales column"
   ]
  },
  {
   "cell_type": "code",
   "execution_count": 17,
   "id": "d3714e9e-77da-4e2f-ba1a-32829a44d3f1",
   "metadata": {},
   "outputs": [],
   "source": [
    " all_data['Total Sales'] = all_data['Quantity Ordered'] * all_data['Price Each']"
   ]
  },
  {
   "cell_type": "markdown",
   "id": "f4866481-5a96-4be0-8d29-6f0537afc1cd",
   "metadata": {},
   "source": [
    "#### Add a city column"
   ]
  },
  {
   "cell_type": "code",
   "execution_count": 30,
   "id": "0cfe90ec-b252-4e34-a957-9379fbd85457",
   "metadata": {},
   "outputs": [],
   "source": [
    "address_split = all_data['Purchase Address'].str.split(\",\", n = 3, expand = True)\n",
    "all_data['Purchase City'] = address_split[1]"
   ]
  },
  {
   "cell_type": "markdown",
   "id": "053527fd-efac-473a-93c3-32d79cc5fbab",
   "metadata": {},
   "source": [
    "## What was the best month for sales?"
   ]
  },
  {
   "cell_type": "markdown",
   "id": "202679e9-6fcf-4b1c-b757-d05b44e65830",
   "metadata": {},
   "source": [
    "\n",
    "#### Find month for max total sales"
   ]
  },
  {
   "cell_type": "code",
   "execution_count": 31,
   "id": "37114f3d-51b0-408c-adfc-64110efa6568",
   "metadata": {},
   "outputs": [
    {
     "data": {
      "text/html": [
       "<div>\n",
       "<style scoped>\n",
       "    .dataframe tbody tr th:only-of-type {\n",
       "        vertical-align: middle;\n",
       "    }\n",
       "\n",
       "    .dataframe tbody tr th {\n",
       "        vertical-align: top;\n",
       "    }\n",
       "\n",
       "    .dataframe thead th {\n",
       "        text-align: right;\n",
       "    }\n",
       "</style>\n",
       "<table border=\"1\" class=\"dataframe\">\n",
       "  <thead>\n",
       "    <tr style=\"text-align: right;\">\n",
       "      <th></th>\n",
       "      <th>Quantity Ordered</th>\n",
       "      <th>Price Each</th>\n",
       "      <th>Total Sales</th>\n",
       "    </tr>\n",
       "    <tr>\n",
       "      <th>Month</th>\n",
       "      <th></th>\n",
       "      <th></th>\n",
       "      <th></th>\n",
       "    </tr>\n",
       "  </thead>\n",
       "  <tbody>\n",
       "    <tr>\n",
       "      <th>12</th>\n",
       "      <td>28114</td>\n",
       "      <td>4588415.41</td>\n",
       "      <td>4613443.34</td>\n",
       "    </tr>\n",
       "  </tbody>\n",
       "</table>\n",
       "</div>"
      ],
      "text/plain": [
       "       Quantity Ordered  Price Each  Total Sales\n",
       "Month                                           \n",
       "12                28114  4588415.41   4613443.34"
      ]
     },
     "execution_count": 31,
     "metadata": {},
     "output_type": "execute_result"
    }
   ],
   "source": [
    "monthly_totals_df = all_data.groupby('Month').sum()\n",
    "column = monthly_totals_df['Total Sales']\n",
    "max_total_sales = column.max()\n",
    "\n",
    "monthly_totals_df.loc[monthly_totals_df['Total Sales'] == max_total_sales]"
   ]
  },
  {
   "cell_type": "markdown",
   "id": "d903622d-ce44-4523-a7d1-54c4cba24e10",
   "metadata": {},
   "source": [
    "\n",
    "\n",
    "#### Monthly Total Sales Bar Graph"
   ]
  },
  {
   "cell_type": "code",
   "execution_count": 32,
   "id": "5fb57198-a728-4664-ac3f-6ed651ac4098",
   "metadata": {},
   "outputs": [
    {
     "data": {
      "image/png": "[encoded data removed]",
      "text/plain": [
       "<Figure size 432x288 with 1 Axes>"
      ]
     },
     "metadata": {
      "needs_background": "light"
     },
     "output_type": "display_data"
    }
   ],
   "source": [
    "months = range(1,13)\n",
    "    \n",
    "plt.bar(months, monthly_totals_df['Total Sales'])\n",
    "\n",
    "plt.title('Monthly Total Sales')\n",
    "plt.xlabel('Months')\n",
    "plt.ylabel('Sales in Millions (USD)')\n",
    "plt.xticks(months)\n",
    "plt.grid(axis='y', linestyle='--')\n",
    "plt.show()"
   ]
  },
  {
   "cell_type": "markdown",
   "id": "e3fb2ee6-d3ca-48ac-9028-051dcce101b6",
   "metadata": {},
   "source": [
    "## Which city had the highest amount of sales?"
   ]
  },
  {
   "cell_type": "markdown",
   "id": "28c08d40-dc3b-4f23-8b51-e4cb2fba7fd3",
   "metadata": {},
   "source": [
    "#### Find city for max total sales "
   ]
  },
  {
   "cell_type": "code",
   "execution_count": 36,
   "id": "3653185e-c8cd-4837-903c-2835eb765ed6",
   "metadata": {},
   "outputs": [
    {
     "data": {
      "text/html": [
       "<div>\n",
       "<style scoped>\n",
       "    .dataframe tbody tr th:only-of-type {\n",
       "        vertical-align: middle;\n",
       "    }\n",
       "\n",
       "    .dataframe tbody tr th {\n",
       "        vertical-align: top;\n",
       "    }\n",
       "\n",
       "    .dataframe thead th {\n",
       "        text-align: right;\n",
       "    }\n",
       "</style>\n",
       "<table border=\"1\" class=\"dataframe\">\n",
       "  <thead>\n",
       "    <tr style=\"text-align: right;\">\n",
       "      <th></th>\n",
       "      <th>Quantity Ordered</th>\n",
       "      <th>Price Each</th>\n",
       "      <th>Month</th>\n",
       "      <th>Total Sales</th>\n",
       "    </tr>\n",
       "    <tr>\n",
       "      <th>Purchase City</th>\n",
       "      <th></th>\n",
       "      <th></th>\n",
       "      <th></th>\n",
       "      <th></th>\n",
       "    </tr>\n",
       "  </thead>\n",
       "  <tbody>\n",
       "    <tr>\n",
       "      <th>San Francisco</th>\n",
       "      <td>50239</td>\n",
       "      <td>8211461.74</td>\n",
       "      <td>315520</td>\n",
       "      <td>8262203.91</td>\n",
       "    </tr>\n",
       "  </tbody>\n",
       "</table>\n",
       "</div>"
      ],
      "text/plain": [
       "                Quantity Ordered  Price Each   Month  Total Sales\n",
       "Purchase City                                                    \n",
       " San Francisco             50239  8211461.74  315520   8262203.91"
      ]
     },
     "execution_count": 36,
     "metadata": {},
     "output_type": "execute_result"
    }
   ],
   "source": [
    "city_totals_df = all_data.groupby('Purchase City').sum()\n",
    "column1 = city_totals_df['Total Sales']\n",
    "max_city_sales = column1.max()\n",
    "\n",
    "city_totals_df.loc[city_totals_df['Total Sales'] == max_city_sales]"
   ]
  },
  {
   "cell_type": "markdown",
   "id": "58d980f9-0aaa-417c-bac8-b9d5e1166253",
   "metadata": {},
   "source": [
    "#### Total Sales by City Bar Graph"
   ]
  },
  {
   "cell_type": "code",
   "execution_count": null,
   "id": "d580040b-644e-4e2a-a3b0-1c7b810c4c2c",
   "metadata": {},
   "outputs": [],
   "source": []
  },
  {
   "cell_type": "code",
   "execution_count": null,
   "id": "c311e610-46d8-4d8b-b203-bb788b0ee8c8",
   "metadata": {},
   "outputs": [],
   "source": []
  },
  {
   "cell_type": "code",
   "execution_count": null,
   "id": "6203d4ef-737b-4b89-86a5-25425a82b36d",
   "metadata": {},
   "outputs": [],
   "source": []
  },
  {
   "cell_type": "code",
   "execution_count": null,
   "id": "caa69d73-212e-449e-8566-7b4cbafd6ed8",
   "metadata": {},
   "outputs": [],
   "source": []
  },
  {
   "cell_type": "code",
   "execution_count": null,
   "id": "1f2e312a-34d3-4619-8611-9408108e8d5c",
   "metadata": {},
   "outputs": [],
   "source": []
  },
  {
   "cell_type": "code",
   "execution_count": null,
   "id": "65e28fe0-bb20-457e-95f0-bebb84c5cc23",
   "metadata": {},
   "outputs": [],
   "source": []
  },
  {
   "cell_type": "code",
   "execution_count": null,
   "id": "33277c30-beb3-4d92-b3af-8b8a98acf030",
   "metadata": {},
   "outputs": [],
   "source": []
  },
  {
   "cell_type": "code",
   "execution_count": null,
   "id": "1dec269d-e3f1-4ded-909c-c726fdb4c198",
   "metadata": {},
   "outputs": [],
   "source": []
  },
  {
   "cell_type": "code",
   "execution_count": null,
   "id": "2ddd8905-0397-45e7-bda0-7597e2161233",
   "metadata": {},
   "outputs": [],
   "source": []
  },
  {
   "cell_type": "code",
   "execution_count": null,
   "id": "6b062d00-d0a2-410a-8ff2-74867d600e4d",
   "metadata": {},
   "outputs": [],
   "source": []
  },
  {
   "cell_type": "code",
   "execution_count": null,
   "id": "2d58089e-6dd6-4a6d-8dcb-fdcf9827a8cb",
   "metadata": {},
   "outputs": [],
   "source": []
  },
  {
   "cell_type": "code",
   "execution_count": null,
   "id": "94df8b91-cd8a-44df-bc67-5f6e5148ea07",
   "metadata": {},
   "outputs": [],
   "source": []
  }
 ],
 "metadata": {
  "kernelspec": {
   "display_name": "Python 3 (ipykernel)",
   "language": "python",
   "name": "python3"
  },
  "language_info": {
   "codemirror_mode": {
    "name": "ipython",
    "version": 3
   },
   "file_extension": ".py",
   "mimetype": "text/x-python",
   "name": "python",
   "nbconvert_exporter": "python",
   "pygments_lexer": "ipython3",
   "version": "3.9.7"
  },
  "widgets": {
   "application/vnd.jupyter.widget-state+json": {
    "state": {},
    "version_major": 2,
    "version_minor": 0
   }
  }
 },
 "nbformat": 4,
 "nbformat_minor": 5
}
