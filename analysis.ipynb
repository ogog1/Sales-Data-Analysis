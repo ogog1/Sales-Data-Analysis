{
 "cells": [
  {
   "cell_type": "code",
   "execution_count": 6,
   "id": "56f5fc3e-7ea6-4e4e-8508-15168e2c00af",
   "metadata": {},
   "outputs": [],
   "source": [
    "import pandas as pd\n",
    "import os"
   ]
  },
  {
   "cell_type": "code",
   "execution_count": 30,
   "id": "12a312fe-267a-4a41-9e36-21d626e15fe0",
   "metadata": {},
   "outputs": [],
   "source": [
    "all_files = [file for file in os.listdir('./Sales_Data')]\n",
    "\n",
    "dfs = []\n",
    "for file in all_files:\n",
    "    dfs.append(pd.read_csv('./Sales_Data/' + file, index_col=None, header=0))\n",
    "\n",
    "frame = pd.concat(dfs, ignore_index=True)"
   ]
  },
  {
   "cell_type": "code",
   "execution_count": null,
   "id": "1d2022b4-ce2a-4e5a-b2d0-eb4973954222",
   "metadata": {},
   "outputs": [],
   "source": []
  },
  {
   "cell_type": "code",
   "execution_count": null,
   "id": "8b94c310-b1b1-4a86-8641-3f070ef63552",
   "metadata": {},
   "outputs": [],
   "source": []
  }
 ],
 "metadata": {
  "kernelspec": {
   "display_name": "Python 3 (ipykernel)",
   "language": "python",
   "name": "python3"
  },
  "language_info": {
   "codemirror_mode": {
    "name": "ipython",
    "version": 3
   },
   "file_extension": ".py",
   "mimetype": "text/x-python",
   "name": "python",
   "nbconvert_exporter": "python",
   "pygments_lexer": "ipython3",
   "version": "3.9.7"
  }
 },
 "nbformat": 4,
 "nbformat_minor": 5
}
